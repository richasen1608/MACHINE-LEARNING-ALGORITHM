{
  "nbformat": 4,
  "nbformat_minor": 0,
  "metadata": {
    "colab": {
      "provenance": []
    },
    "kernelspec": {
      "name": "python3",
      "display_name": "Python 3"
    },
    "language_info": {
      "name": "python"
    }
  },
  "cells": [
    {
      "cell_type": "code",
      "execution_count": 1,
      "metadata": {
        "id": "VM0uwTnrGYiJ"
      },
      "outputs": [],
      "source": [
        "import nltk\n",
        "import spacy\n"
      ]
    },
    {
      "cell_type": "code",
      "source": [
        "from nltk.stem import PorterStemmer\n",
        "stemmer = PorterStemmer()"
      ],
      "metadata": {
        "id": "JrXTh_LuGbVj"
      },
      "execution_count": 3,
      "outputs": []
    },
    {
      "cell_type": "code",
      "source": [
        "words =[\"eating\",\"ate\",\"eats\",\"eat\",\"adjustable\",\"rafting\"]\n",
        "for word in words:\n",
        "  print(word, \"|\", stemmer.stem(word))"
      ],
      "metadata": {
        "colab": {
          "base_uri": "https://localhost:8080/"
        },
        "id": "1fg8fPpTGrsD",
        "outputId": "6eb44273-5c4b-4bbe-cf2e-245b5535c918"
      },
      "execution_count": 5,
      "outputs": [
        {
          "output_type": "stream",
          "name": "stdout",
          "text": [
            "eating | eat\n",
            "ate | ate\n",
            "eats | eat\n",
            "eat | eat\n",
            "adjustable | adjust\n",
            "rafting | raft\n"
          ]
        }
      ]
    },
    {
      "cell_type": "code",
      "source": [
        "nlp = spacy.load(\"en_core_web_sm\")\n",
        "doc=nlp(\"eating eats ate eaten adjustable rafting meeting better\")\n",
        "for token in doc:\n",
        "  print(token , \"|\", token.lemma_, \"|\", token.lemma)\n"
      ],
      "metadata": {
        "colab": {
          "base_uri": "https://localhost:8080/"
        },
        "id": "LJmvDP27HF0y",
        "outputId": "94598b10-d776-4fde-a04b-24dd5b82d5a8"
      },
      "execution_count": 7,
      "outputs": [
        {
          "output_type": "stream",
          "name": "stdout",
          "text": [
            "eating | eat | 9837207709914848172\n",
            "eats | eat | 9837207709914848172\n",
            "ate | ate | 10806788082624814911\n",
            "eaten | eat | 9837207709914848172\n",
            "adjustable | adjustable | 6033511944150694480\n",
            "rafting | raft | 7154368781129989833\n",
            "meeting | meeting | 14798207169164081740\n",
            "better | well | 4525988469032889948\n"
          ]
        }
      ]
    },
    {
      "cell_type": "code",
      "source": [
        "doc=nlp(\"Richa read a Novel for 3 hours straint although reading isn't her thing \")\n",
        "for token in doc:\n",
        "  print(token,\"|\",token.lemma_,\"|\",token.lemma)"
      ],
      "metadata": {
        "colab": {
          "base_uri": "https://localhost:8080/"
        },
        "id": "uspyfO_2HwcB",
        "outputId": "0128a196-e335-40de-bca2-97b5f2490623"
      },
      "execution_count": 9,
      "outputs": [
        {
          "output_type": "stream",
          "name": "stdout",
          "text": [
            "Richa | Richa | 11783887439409047101\n",
            "read | read | 11792590063656742891\n",
            "a | a | 11901859001352538922\n",
            "Novel | novel | 5024437398898353846\n",
            "for | for | 16037325823156266367\n",
            "3 | 3 | 602994839685422785\n",
            "hours | hour | 9748623380567160636\n",
            "straint | straint | 9602912173797797210\n",
            "although | although | 343236316598008647\n",
            "reading | reading | 6597542354426545486\n",
            "is | be | 10382539506755952630\n",
            "n't | not | 447765159362469301\n",
            "her | her | 4115755726172261197\n",
            "thing | thing | 2473243759842082748\n"
          ]
        }
      ]
    },
    {
      "cell_type": "code",
      "source": [
        "nlp.pipe_names"
      ],
      "metadata": {
        "colab": {
          "base_uri": "https://localhost:8080/"
        },
        "id": "d7Bx85jMIad8",
        "outputId": "adc951f7-ef6f-4204-e7b3-fc9578618bba"
      },
      "execution_count": 10,
      "outputs": [
        {
          "output_type": "execute_result",
          "data": {
            "text/plain": [
              "['tok2vec', 'tagger', 'parser', 'attribute_ruler', 'lemmatizer', 'ner']"
            ]
          },
          "metadata": {},
          "execution_count": 10
        }
      ]
    },
    {
      "cell_type": "code",
      "source": [
        "ar=nlp.get_pipe('attribute_ruler')\n",
        "ar.add([[{\"TEXT\":\"Bro\"}],[{\"TEXT\":\"Brah\"}]], {\"LEMMA\": \"Brother\"})\n",
        "\n",
        "\n",
        "doc=nlp(\"Bro, you wanna go? Brah, don't say no! I am exhausted\")\n",
        "for token in doc:\n",
        "  print(token,\"|\",token.lemma_,\"|\",token.lemma)"
      ],
      "metadata": {
        "colab": {
          "base_uri": "https://localhost:8080/"
        },
        "id": "OFf2nssaI4Wk",
        "outputId": "910475df-f113-439d-89ac-d3c89af2075d"
      },
      "execution_count": 17,
      "outputs": [
        {
          "output_type": "stream",
          "name": "stdout",
          "text": [
            "Bro | Brother | 4347558510128575363\n",
            ", | , | 2593208677638477497\n",
            "you | you | 7624161793554793053\n",
            "wanna | wanna | 13000462173222681081\n",
            "go | go | 8004577259940138793\n",
            "? | ? | 8205403955989537350\n",
            "Brah | Brother | 4347558510128575363\n",
            ", | , | 2593208677638477497\n",
            "do | do | 2158845516055552166\n",
            "n't | not | 447765159362469301\n",
            "say | say | 8685289367999165211\n",
            "no | no | 13055779130471031426\n",
            "! | ! | 17494803046312582752\n",
            "I | I | 4690420944186131903\n",
            "am | be | 10382539506755952630\n",
            "exhausted | exhaust | 5738807065439247694\n"
          ]
        }
      ]
    },
    {
      "cell_type": "code",
      "source": [
        "doc[0]"
      ],
      "metadata": {
        "colab": {
          "base_uri": "https://localhost:8080/"
        },
        "id": "rUGllB6oJSkn",
        "outputId": "c28658d6-554b-4ac7-e001-5ba876c3b05d"
      },
      "execution_count": 13,
      "outputs": [
        {
          "output_type": "execute_result",
          "data": {
            "text/plain": [
              "Bro"
            ]
          },
          "metadata": {},
          "execution_count": 13
        }
      ]
    },
    {
      "cell_type": "code",
      "source": [],
      "metadata": {
        "id": "yaTcREGQJZT9"
      },
      "execution_count": null,
      "outputs": []
    }
  ]
}